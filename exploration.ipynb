{
 "metadata": {
  "name": "",
  "signature": "sha256:b71972ce453ba7be7d65f1525f33d42382cfa61896fe2b42be31c9ddaa7c8351"
 },
 "nbformat": 3,
 "nbformat_minor": 0,
 "worksheets": [
  {
   "cells": [
    {
     "cell_type": "code",
     "collapsed": false,
     "input": [
      "import numpy as np\n",
      "import pandas as pd\n",
      "import matplotlib.pyplot as plt\n",
      "import seaborn as sns\n",
      "\n",
      "from sklearn.neighbors import NearestNeighbors\n",
      "from sklearn.ensemble import RandomForestClassifier\n",
      "from sklearn.ensemble import ExtraTreesClassifier\n",
      "\n",
      "from sklearn.cross_validation import train_test_split"
     ],
     "language": "python",
     "metadata": {},
     "outputs": []
    },
    {
     "cell_type": "code",
     "collapsed": false,
     "input": [
      "df = pd.read_csv('train.csv')\n",
      "num_features = 93\n",
      "num_samples = df.shape[0]\n",
      "df.head()"
     ],
     "language": "python",
     "metadata": {},
     "outputs": []
    },
    {
     "cell_type": "code",
     "collapsed": false,
     "input": [
      "num_zeros = np.zeros(num_features)\n",
      "for col in range(0,num_features):\n",
      "    num_zeros[col] = np.count_nonzero(df.iloc[:,col+1]) / num_samples\n",
      "plt.hist(num_zeros)"
     ],
     "language": "python",
     "metadata": {},
     "outputs": []
    },
    {
     "cell_type": "code",
     "collapsed": false,
     "input": [
      "df_copy = df.copy()\n",
      "mask = df_copy['target'] != 'Class_1'\n",
      "df_copy['target'][mask] = 'Class_10'"
     ],
     "language": "python",
     "metadata": {},
     "outputs": []
    },
    {
     "cell_type": "code",
     "collapsed": false,
     "input": [
      "sns.pairplot(df_copy[['feat_30','feat_2','feat_3','target']], hue='target')"
     ],
     "language": "python",
     "metadata": {},
     "outputs": []
    },
    {
     "cell_type": "code",
     "collapsed": false,
     "input": [
      "m = df.as_matrix()\n",
      "labels = m[:,-1]\n",
      "feats = m[:,1:-1]\n",
      "print(feats.shape)"
     ],
     "language": "python",
     "metadata": {},
     "outputs": []
    },
    {
     "cell_type": "code",
     "collapsed": false,
     "input": [
      "X_train, X_test, y_train, y_test = train_test_split(\n",
      "...     feats, labels, test_size=0.2, random_state=0)"
     ],
     "language": "python",
     "metadata": {},
     "outputs": []
    },
    {
     "cell_type": "code",
     "collapsed": false,
     "input": [
      "clf = RandomForestClassifier(n_estimators=100)\n",
      "clf.fit(X_train, y_train)\n",
      "predict_probs = clf.predict_proba(X_train)"
     ],
     "language": "python",
     "metadata": {},
     "outputs": []
    },
    {
     "cell_type": "code",
     "collapsed": false,
     "input": [
      "predictions = clf.predict(X_test)"
     ],
     "language": "python",
     "metadata": {},
     "outputs": []
    },
    {
     "cell_type": "code",
     "collapsed": false,
     "input": [
      "sum(y_test == predictions)/len(predictions)"
     ],
     "language": "python",
     "metadata": {},
     "outputs": []
    },
    {
     "cell_type": "code",
     "collapsed": false,
     "input": [
      "# test set predictions\n",
      "df_test = pd.read_csv('test.csv')\n",
      "m_test = df_test.as_matrix()\n",
      "m_feats = m_test[:,1:]\n",
      "predict_probs = clf.predict_proba(m_feats)"
     ],
     "language": "python",
     "metadata": {},
     "outputs": []
    },
    {
     "cell_type": "code",
     "collapsed": false,
     "input": [
      "# write to submission file\n",
      "result = pd.DataFrame(predict_probs)\n",
      "result.columns = col_names\n",
      "result.insert(0,'id',m_test[:,0])\n",
      "result.to_csv('submission.csv', index=False)"
     ],
     "language": "python",
     "metadata": {},
     "outputs": []
    },
    {
     "cell_type": "code",
     "collapsed": false,
     "input": [],
     "language": "python",
     "metadata": {},
     "outputs": []
    }
   ],
   "metadata": {}
  }
 ]
}